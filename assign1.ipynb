{
 "cells": [
  {
   "cell_type": "code",
   "execution_count": null,
   "id": "169d5a23-2b9c-471c-81fd-dda55ea6e2cd",
   "metadata": {},
   "outputs": [],
   "source": [
    "1)\n",
    "* is an expression\n",
    "'hello' is a value\n",
    "-87.8 is a value\n",
    "- is an expression\n",
    "/ is an expression\n",
    "+ is an expression\t\n",
    "6 is a value\n",
    "\n"
   ]
  },
  {
   "cell_type": "code",
   "execution_count": null,
   "id": "edb7b7ec-f3e1-4d02-a885-a699c80981ae",
   "metadata": {},
   "outputs": [],
   "source": [
    "2.What is the difference between string and variable?\n",
    "\n",
    "string - string is a word(information) \n",
    "                          \n",
    "variable - in variable we store the information  \n",
    "\n",
    "example:-      var= \"apple\"\n",
    "               in this var is a variable and apple is a string\n",
    "\n"
   ]
  },
  {
   "cell_type": "code",
   "execution_count": null,
   "id": "1a1252d2-e11e-4d98-ac97-6b05107ce459",
   "metadata": {},
   "outputs": [],
   "source": [
    "3.Describe three different data types.\n",
    "\n",
    "   1)int - it contains integer(whole) values (ex- 2,5,100)\n",
    "   2)float - it contains decimal values (ex - 4.3,22.78)\n",
    "   3)string - it contains alphabets,numbers and expressions (ex - \"ineuron\",\"datascience\")\n",
    "    "
   ]
  },
  {
   "cell_type": "code",
   "execution_count": null,
   "id": "9604e9d0-a903-436d-b390-108d437993dd",
   "metadata": {},
   "outputs": [],
   "source": [
    "4. What is an expression made up of? What do all expressions do?\n",
    "\n",
    "expression is made up of operands and operators.\n",
    "\n",
    "expression is uesd to get the desired output.\n",
    "\n",
    "ex : a=2+3"
   ]
  },
  {
   "cell_type": "code",
   "execution_count": null,
   "id": "1d3f74a3-005e-4387-a656-95b325b79ded",
   "metadata": {},
   "outputs": [],
   "source": [
    "5. This assignment statements, like spam = 10. What is the difference between an expression and a statement?\n",
    "\n",
    "\n",
    "in this we are assigning 10 to spam variable.\n",
    "\n",
    "in expression we perform some mathematical operations\n",
    "\n",
    "\n",
    "\n",
    "\n"
   ]
  },
  {
   "cell_type": "code",
   "execution_count": null,
   "id": "469978fb-14d8-45af-8e65-db3d3b547ffe",
   "metadata": {},
   "outputs": [],
   "source": [
    "6. After running the following code, what does the variable bacon contain?\n",
    "bacon = 22\n",
    "bacon + 1\n",
    "\n",
    "after running this code bacon contains 23\n"
   ]
  },
  {
   "cell_type": "code",
   "execution_count": null,
   "id": "c577c4a7-50aa-4da4-bbb3-5c3373c55b34",
   "metadata": {},
   "outputs": [],
   "source": [
    "7. What should the values of the following two terms be?\n",
    "'spam' + 'spamspam'  = 'spamspamspam'\n",
    "'spam' * 3  = 'spamspamspam'\n",
    "\n"
   ]
  },
  {
   "cell_type": "code",
   "execution_count": null,
   "id": "142fa5d3-7190-4edc-9f33-08fb98ac4c04",
   "metadata": {
    "scrolled": true,
    "tags": []
   },
   "outputs": [],
   "source": [
    "8.Why is eggs a valid variable name while 100 is invalid?\n",
    "\n",
    "variable name should start from alphabets \n",
    "100 is a numbers so we cant take it as an variable\n",
    "\n"
   ]
  },
  {
   "cell_type": "code",
   "execution_count": null,
   "id": "0e507c93-85e1-44a2-aaf3-9d8cb4b47d29",
   "metadata": {},
   "outputs": [],
   "source": [
    "9. What three functions can be used to get the integer, floating-point number, or string version of a value?\n",
    "\n",
    "int()\n",
    "float()\n",
    "str()"
   ]
  },
  {
   "cell_type": "code",
   "execution_count": null,
   "id": "2bf10985-58ee-416e-ab2b-05741f9d43a8",
   "metadata": {},
   "outputs": [],
   "source": [
    "10. Why does this expression cause an error? How can you fix it?\n",
    "'I have eaten ' + 99 + ' burritos.'\n",
    "\n",
    "we can concate only strings\n",
    "here 99 is an integer so it is showing an error.\n",
    "\n",
    "we can fix by traeting 99 as a string\n",
    "\n",
    "'I have eaten ' + '99' + ' burritos.'\n",
    "\n"
   ]
  },
  {
   "cell_type": "code",
   "execution_count": null,
   "id": "13af47bf-bee8-4077-af82-573ab2a55d71",
   "metadata": {},
   "outputs": [],
   "source": []
  }
 ],
 "metadata": {
  "kernelspec": {
   "display_name": "Python 3 (ipykernel)",
   "language": "python",
   "name": "python3"
  },
  "language_info": {
   "codemirror_mode": {
    "name": "ipython",
    "version": 3
   },
   "file_extension": ".py",
   "mimetype": "text/x-python",
   "name": "python",
   "nbconvert_exporter": "python",
   "pygments_lexer": "ipython3",
   "version": "3.10.6"
  }
 },
 "nbformat": 4,
 "nbformat_minor": 5
}
