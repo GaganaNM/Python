{
 "cells": [
  {
   "cell_type": "code",
   "execution_count": null,
   "id": "28434436-30a5-4c8c-81be-af30c3696024",
   "metadata": {},
   "outputs": [],
   "source": [
    "1.What are the two values of the Boolean data type? How do you write them?\n",
    "\n",
    "    1. True\n",
    "    2.False\n",
    "    "
   ]
  },
  {
   "cell_type": "code",
   "execution_count": null,
   "id": "2ab31d28-7739-4a45-87de-439253f13ee3",
   "metadata": {},
   "outputs": [],
   "source": [
    "2. What are the three different types of Boolean operators?\n",
    "\n",
    "    and(&)\n",
    "    or(||)\n",
    "    not(!)"
   ]
  },
  {
   "cell_type": "code",
   "execution_count": null,
   "id": "928c304f-1f47-4805-8896-f4c37fd7f5a0",
   "metadata": {},
   "outputs": [],
   "source": [
    "3. Make a list of each Boolean operator&#39;s truth tables (i.e. every possible combination of Boolean\n",
    "values for the operator and what it evaluate ).\n",
    "\n",
    "\n",
    "    And(&)\n",
    "    \n",
    "       A            B              O/P\n",
    "        \n",
    "       true        true            true\n",
    "       true        false           false\n",
    "       false       true            false\n",
    "       false       false           false\n",
    "\n",
    "        \n",
    "      OR(||)\n",
    "    \n",
    "       A            B              O/P\n",
    "        \n",
    "       true        true            true\n",
    "       true        false           true\n",
    "       false       true            true\n",
    "       false       false           false   \n",
    "        \n",
    "        \n",
    "        NOT(!)\n",
    "        \n",
    "        True      false\n",
    "        false     true \n",
    "        \n",
    "\n",
    "\n"
   ]
  },
  {
   "cell_type": "code",
   "execution_count": null,
   "id": "a4172771-5e2f-4de6-9494-572d633da141",
   "metadata": {},
   "outputs": [],
   "source": [
    "4. What are the values of the following expressions?\n",
    "(5 &gt; 4) and (3 == 5)\n",
    "not (5 &gt; 4)\n",
    "(5 &gt; 4) or (3 == 5)\n",
    "not ((5 &gt; 4) or (3 == 5))\n",
    "(True and True) and (True == False)\n",
    "(not False) or (not True)\n",
    "\n",
    "     False\n",
    "     False\n",
    "     True\n",
    "     False\n",
    "     False\n",
    "     True\n",
    "    \n",
    "        \n",
    "    \n",
    "\n",
    "\n"
   ]
  },
  {
   "cell_type": "code",
   "execution_count": null,
   "id": "9e6d6949-4d9e-4f42-99da-3be7c6234fbc",
   "metadata": {},
   "outputs": [],
   "source": [
    "5. What are the six comparison operators?\n",
    "\n",
    "    1. equals to (==)\n",
    "    2. greater than (>)\n",
    "    3. Less than (<)\n",
    "    4. greater than or equals to (>=)\n",
    "    5. Less than or equal to (<=)\n",
    "    6. Not equal to (!=)"
   ]
  },
  {
   "cell_type": "code",
   "execution_count": null,
   "id": "846762cb-9169-4c4d-8ebf-4262eca5871b",
   "metadata": {},
   "outputs": [],
   "source": [
    "6. How do you tell the difference between the equal to and assignment operators?Describe a\n",
    "condition and when you would use one.\n",
    "\n",
    "    Equal opearator is used to tell that the left side value is equal to right side value.\n",
    "    \n",
    "    for ex: 2==2\n",
    "            in this ex we are telling that left side 2 is equal to right side 2\n",
    "        \n",
    "    Assignment operator is used to assign the value to a variable.\n",
    "     \n",
    "    for ex : a=\"ineuron\"\n",
    "             in this ex we are assigning ineuron calles value to a variable called a.\n",
    "        \n",
    "\n"
   ]
  },
  {
   "cell_type": "code",
   "execution_count": null,
   "id": "7eff8355-a257-4734-b61f-7e5cd1e24213",
   "metadata": {},
   "outputs": [],
   "source": [
    "7. Identify the three blocks in this code:\n",
    "spam = 0\n",
    "if spam == 10:\n",
    "print(&#39;eggs&#39;)\n",
    "if spam &gt; 5:\n",
    "print(&#39;bacon&#39;)\n",
    "else:\n",
    "print(&#39;ham&#39;)\n",
    "print(&#39;spam&#39;)\n",
    "print(&#39;spam&#39;)\n",
    "      \n",
    "      \n",
    "      spam = 0\n",
    "if spam == 10:\n",
    "    print(&#39;eggs&#39;)\n",
    "if spam &gt; 5:\n",
    "    print(&#39;bacon&#39;)\n",
    "else:\n",
    "   print(&#39;ham&#39;)\n",
    "print(&#39;spam&#39;)\n",
    "print(&#39;spam&#39;)"
   ]
  },
  {
   "cell_type": "code",
   "execution_count": null,
   "id": "2bbf6776-57e2-4dae-8648-09b26adcde87",
   "metadata": {},
   "outputs": [],
   "source": [
    "#8. Write code that prints Hello if 1 is stored in spam, prints Howdy if 2 is stored in spam, and prints\n",
    "#Greetings! if anything else is stored in spam.\n",
    "\n",
    "\n",
    "value=int(input(\"enter the value of spam(only numbers)\"))\n",
    "\n",
    "if value==1:\n",
    "    print(\"Hello\")\n",
    "elif value==2:\n",
    "        print(\"Howdy\")\n",
    "else:\n",
    "            print(\"Greetings!\")\n",
    "            \n",
    "\n"
   ]
  },
  {
   "cell_type": "markdown",
   "id": "100ddeae-92d0-44bc-9915-0431167b5699",
   "metadata": {},
   "source": [
    "11. In a for loop, what is the difference between range(10), range(0, 10), and range(0, 10, 1)? \n",
    "\n",
    "\n",
    "     three are same \n",
    "     range(10) - by default it will start the values from 0 -9\n",
    "     range(0,10) - we are telling that starting number should be 0\n",
    "     range(0,10,1) - here we are telling that start printing the output with one increment\n",
    "     "
   ]
  },
  {
   "cell_type": "code",
   "execution_count": null,
   "id": "b4b12e6f-147d-4ecf-920e-8010139de249",
   "metadata": {},
   "outputs": [],
   "source": [
    "\n",
    "12. Write a short program that prints the numbers 1 to 10 using a for loop. Then write an equivalent\n",
    "program that prints the numbers 1 to 10 using a while loop.\n",
    "\n",
    "\n",
    "  for i in range(1,11)\n",
    "    print(i)\n",
    "    \n",
    "    \n",
    "  start=1\n",
    "while start<=10:\n",
    "    print(start)\n",
    "    start +=1"
   ]
  },
  {
   "cell_type": "code",
   "execution_count": null,
   "id": "d49db0d2-c52e-45a1-b348-5d089e4873b0",
   "metadata": {},
   "outputs": [],
   "source": [
    "13. If you had a function named bacon() inside a module named spam, how would you call it after\n",
    "importing spam?\n",
    "\n",
    "spam.bacon()"
   ]
  },
  {
   "cell_type": "code",
   "execution_count": null,
   "id": "1d648e35-4af4-4994-afc1-5d8ba8e90458",
   "metadata": {},
   "outputs": [],
   "source": []
  },
  {
   "cell_type": "code",
   "execution_count": null,
   "id": "6279063e-7bd5-4537-8eaa-4827598bed4f",
   "metadata": {},
   "outputs": [],
   "source": []
  }
 ],
 "metadata": {
  "kernelspec": {
   "display_name": "Python 3 (ipykernel)",
   "language": "python",
   "name": "python3"
  },
  "language_info": {
   "codemirror_mode": {
    "name": "ipython",
    "version": 3
   },
   "file_extension": ".py",
   "mimetype": "text/x-python",
   "name": "python",
   "nbconvert_exporter": "python",
   "pygments_lexer": "ipython3",
   "version": "3.10.6"
  }
 },
 "nbformat": 4,
 "nbformat_minor": 5
}
