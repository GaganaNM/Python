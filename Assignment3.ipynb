{
 "cells": [
  {
   "cell_type": "code",
   "execution_count": null,
   "id": "0d7b0d8a-9b65-4823-b9d5-eafe2be5704f",
   "metadata": {},
   "outputs": [],
   "source": [
    "1. Why are functions advantageous to have in your programs?\n",
    "\n",
    "   1)if we write function 1 time we can call this function n number of times,it saves time \n",
    "   2)it reduces the length of the code.(in the middle of the code instead of writing add function we can call add() function)\n",
    "   \n",
    "    "
   ]
  },
  {
   "cell_type": "code",
   "execution_count": null,
   "id": "471ee2a4-2782-4e8c-ae94-0db3b04bbeeb",
   "metadata": {},
   "outputs": [],
   "source": [
    "2. When does the code in a function run: when it&#39;s specified or when it&#39;s called?\n",
    "\n",
    "     when its called."
   ]
  },
  {
   "cell_type": "code",
   "execution_count": null,
   "id": "9e0e90b2-7936-4174-b2d8-f3a46c6e82db",
   "metadata": {},
   "outputs": [],
   "source": [
    "3. What statement creates a function?\n",
    "\n",
    "   def add()"
   ]
  },
  {
   "cell_type": "code",
   "execution_count": null,
   "id": "988343d0-8564-470b-a1a0-e993ca369148",
   "metadata": {},
   "outputs": [],
   "source": [
    "4. What is the difference between a function and a function call?\n",
    "\n",
    "     Function: it contain a lines of code\n",
    "    \n",
    "     Function Call : when we call a function it executes the code in the function\n",
    "        \n"
   ]
  },
  {
   "cell_type": "code",
   "execution_count": null,
   "id": "773927f5-aeb6-4b94-b4b6-fda79fe26cbc",
   "metadata": {},
   "outputs": [],
   "source": [
    "5. How many global scopes are there in a Python program? How many local scopes?\n",
    "\n",
    "    only 1 global scope is there\n",
    "    local scope can vary"
   ]
  },
  {
   "cell_type": "code",
   "execution_count": null,
   "id": "2bdb4b00-8390-4bd8-9332-77a0e6d00144",
   "metadata": {},
   "outputs": [],
   "source": [
    "6. What happens to variables in a local scope when the function call returns?\n",
    "    \n",
    "     memory allocated to local variables is freed up and can be used for other purpose"
   ]
  },
  {
   "cell_type": "code",
   "execution_count": null,
   "id": "79bceb00-4772-4b69-a015-3bde0903f470",
   "metadata": {},
   "outputs": [],
   "source": [
    "7. What is the concept of a return value? Is it possible to have a return value in an expression?\n",
    "\n",
    "    in function after performing certain operations that functions returns some output that is through return statement.\n",
    "     yes it is possible"
   ]
  },
  {
   "cell_type": "code",
   "execution_count": null,
   "id": "767499ff-748c-45d6-8818-28319b658a01",
   "metadata": {},
   "outputs": [],
   "source": [
    "8. If a function does not have a return statement, what is the return value of a call to that function?\n",
    "\n",
    "    None"
   ]
  },
  {
   "cell_type": "code",
   "execution_count": null,
   "id": "ff0a1d4f-b13a-486d-9f9d-2e5e85743ee6",
   "metadata": {},
   "outputs": [],
   "source": [
    "9. How do you make a function variable refer to the global variable?\n",
    "\n",
    "     we can use global infront of variable name\n",
    "    "
   ]
  },
  {
   "cell_type": "code",
   "execution_count": null,
   "id": "1be622eb-dc1a-4516-9d82-dd7537e78615",
   "metadata": {},
   "outputs": [],
   "source": [
    "10. What is the data type of None?\n",
    "\n",
    "     NoneType\n",
    "    "
   ]
  },
  {
   "cell_type": "code",
   "execution_count": null,
   "id": "6a00f093-de8f-42d9-b217-e37566ac51ef",
   "metadata": {},
   "outputs": [],
   "source": [
    "11. What does the sentence import areallyourpetsnamederic do?\n",
    "\n",
    "      it is not a valid package\n",
    "    it will not do anything\n",
    "    it might throw an error"
   ]
  },
  {
   "cell_type": "code",
   "execution_count": null,
   "id": "b565a9f9-845e-4fee-a183-6535c4b0b8cd",
   "metadata": {},
   "outputs": [],
   "source": [
    "12. If you had a bacon() feature in a spam module, what would you call it after importing spam?\n",
    "\n",
    "    spam.bacon()"
   ]
  },
  {
   "cell_type": "code",
   "execution_count": null,
   "id": "9c1c041f-2db6-46fd-9757-a99f2c8f3136",
   "metadata": {},
   "outputs": [],
   "source": [
    "13. What can you do to save a programme from crashing if it encounters an error?\n",
    "\n",
    "      exception handling using try,else,finally\n",
    "    "
   ]
  },
  {
   "cell_type": "code",
   "execution_count": null,
   "id": "adb1615d-6673-4b6b-9027-fec663161ca0",
   "metadata": {},
   "outputs": [],
   "source": [
    "14. What is the purpose of the try clause? What is the purpose of the except clause?\n",
    "\n",
    "     try : in try block we can write a code which might cause an error.\n",
    "    \n",
    "     except : in this block we can write error message or something to handle the error. "
   ]
  }
 ],
 "metadata": {
  "kernelspec": {
   "display_name": "Python 3 (ipykernel)",
   "language": "python",
   "name": "python3"
  },
  "language_info": {
   "codemirror_mode": {
    "name": "ipython",
    "version": 3
   },
   "file_extension": ".py",
   "mimetype": "text/x-python",
   "name": "python",
   "nbconvert_exporter": "python",
   "pygments_lexer": "ipython3",
   "version": "3.10.6"
  }
 },
 "nbformat": 4,
 "nbformat_minor": 5
}
