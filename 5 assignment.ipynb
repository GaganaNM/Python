{
 "cells": [
  {
   "cell_type": "code",
   "execution_count": null,
   "id": "12d85298-2966-43d8-bf64-c83736dc2b44",
   "metadata": {},
   "outputs": [],
   "source": [
    "What exactly is []?\n",
    "\n",
    "   [] = it is an empty list.\n",
    "    "
   ]
  },
  {
   "cell_type": "code",
   "execution_count": null,
   "id": "f2d8d9c2-f1dc-4668-a750-cbd32d172133",
   "metadata": {},
   "outputs": [],
   "source": [
    "2. In a list of values stored in a variable called spam, how would you assign the value &#39;hello&#39; as the\n",
    "third value? (Assume [2, 4, 6, 8, 10] are in spam.)\n",
    "\n",
    "   spam[2]=\"hello\"\n",
    "    "
   ]
  },
  {
   "cell_type": "code",
   "execution_count": null,
   "id": "d2f4cc11-7c54-4a7d-adc0-f12682b09456",
   "metadata": {},
   "outputs": [],
   "source": [
    "3. What is the value of spam[int(int(&#39;3&#39; * 2) / 11)]?\n",
    "                                     \n",
    "        answer is d                             "
   ]
  },
  {
   "cell_type": "code",
   "execution_count": null,
   "id": "c788d7b8-9e8b-431e-8dd5-cfaa2511a150",
   "metadata": {},
   "outputs": [],
   "source": [
    "4. What is the value of spam[-1]?\n",
    "       \n",
    "    answer is d"
   ]
  },
  {
   "cell_type": "code",
   "execution_count": null,
   "id": "69e27402-d91e-4e1b-9d78-c8adef6d1468",
   "metadata": {},
   "outputs": [],
   "source": [
    "5. What is the value of spam[:2]?\n",
    "\n",
    "     answer is ['a','b']"
   ]
  },
  {
   "cell_type": "code",
   "execution_count": null,
   "id": "cd5255f6-d3a2-43ab-9df8-8083d5067f3b",
   "metadata": {},
   "outputs": [],
   "source": [
    "6. What is the value of bacon.index(&#39;cat&#39;)?\n",
    "                                    \n",
    "       answer is 1                             "
   ]
  },
  {
   "cell_type": "code",
   "execution_count": null,
   "id": "a932dcd3-f966-40a1-89ef-02080d9d2a63",
   "metadata": {},
   "outputs": [],
   "source": [
    "7.How does bacon.append(99) change the look of the list value in bacon?\n",
    "\n",
    "     [3.14,'cat',11,'cat',True,99]"
   ]
  },
  {
   "cell_type": "code",
   "execution_count": null,
   "id": "3fb0ebc7-c877-4d8f-a04a-c073b2c6156d",
   "metadata": {},
   "outputs": [],
   "source": [
    "8. How does bacon.remove(&#39;cat&#39;) change the look of the list in bacon?\n",
    "                        \n",
    "        3.14,11,'cat',True,99]                 \n",
    "                         "
   ]
  },
  {
   "cell_type": "code",
   "execution_count": null,
   "id": "fadcc568-3dda-4b6b-bb5a-87df559a5b4a",
   "metadata": {},
   "outputs": [],
   "source": [
    "9. What are the list concatenation and list replication operators?\n",
    "\n",
    "      list concatenation operator is \"+\"\n",
    "      list replication operator is \"*\""
   ]
  },
  {
   "cell_type": "code",
   "execution_count": null,
   "id": "dbbc2af9-22d8-446d-b209-f70319e28290",
   "metadata": {},
   "outputs": [],
   "source": [
    "10. What is difference between the list methods append() and insert()?\n",
    "\n",
    "       append()= is used to insert the element at the end of the list.\n",
    "       insert()= is used to insert the element in the given index. \n",
    "        ex: list.insert(1,3) \n",
    "        in the above example 3 is the value to be added in the index of 1"
   ]
  },
  {
   "cell_type": "code",
   "execution_count": null,
   "id": "f8f1ef81-28e2-45cd-b931-d6b2d28e810f",
   "metadata": {},
   "outputs": [],
   "source": [
    "11. What are the two methods for removing items from a list?\n",
    "\n",
    "     Remove(): it used to remove using value. \n",
    "        ex : list.remove(2) - removes 2 value from the list \n",
    "        \n",
    "     pop(): used to remove an element from list based on given index.\n",
    "         \n",
    "        ex: list.pop(1) - removes the element which is in 1st index"
   ]
  },
  {
   "cell_type": "code",
   "execution_count": null,
   "id": "c2ebe25d-31d3-4f86-a3d6-75c04587f48c",
   "metadata": {},
   "outputs": [],
   "source": [
    "13. What is the difference between tuples and lists?\n",
    "\n",
    "      LISTS                      TUPLES\n",
    "    \n",
    "    1)lists are mutable         1)tuples are immutable\n",
    "    2)lists created using []    2)tuples created using ()\n",
    "\n",
    "\n",
    "      "
   ]
  },
  {
   "cell_type": "code",
   "execution_count": null,
   "id": "e631ec86-1b5f-468e-8f19-33bb9c0349ba",
   "metadata": {},
   "outputs": [],
   "source": [
    "14. How do you type a tuple value that only contains the integer 42?\n",
    "\n",
    "     tuple=(42)"
   ]
  },
  {
   "cell_type": "code",
   "execution_count": null,
   "id": "f246bbab-8365-4bd2-a292-d2e4afbde977",
   "metadata": {},
   "outputs": [],
   "source": [
    "15. How do you get a list value&#39;s tuple form? How do you get a tuple value&#39;s list form?\n",
    "\n",
    "   list values tuple form\n",
    "      \n",
    "        list1=[1,2,3]\n",
    "        tuple1=tuple(list1)\n",
    "        \n",
    "   tuple values list form\n",
    "\n",
    "         tuple2=(4,5,6)\n",
    "         list2=list(tuple2)\n"
   ]
  },
  {
   "cell_type": "code",
   "execution_count": null,
   "id": "de54cd50-dbb2-46df-b0b1-e0e4f11cda4b",
   "metadata": {},
   "outputs": [],
   "source": [
    "16. Variables that &quot;contain&quot; list values are not necessarily lists themselves. Instead, what do they\n",
    "contain?\n",
    "   \n",
    "        variables stores memory locations of the assigned values\n",
    "        \n",
    "   "
   ]
  },
  {
   "cell_type": "code",
   "execution_count": null,
   "id": "d3fca566-7963-49cb-b1b1-ae48ba7163fd",
   "metadata": {},
   "outputs": [],
   "source": []
  }
 ],
 "metadata": {
  "kernelspec": {
   "display_name": "Python 3 (ipykernel)",
   "language": "python",
   "name": "python3"
  },
  "language_info": {
   "codemirror_mode": {
    "name": "ipython",
    "version": 3
   },
   "file_extension": ".py",
   "mimetype": "text/x-python",
   "name": "python",
   "nbconvert_exporter": "python",
   "pygments_lexer": "ipython3",
   "version": "3.10.6"
  }
 },
 "nbformat": 4,
 "nbformat_minor": 5
}
